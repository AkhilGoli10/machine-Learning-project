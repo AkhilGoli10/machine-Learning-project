{
 "cells": [
  {
   "cell_type": "code",
   "execution_count": 25,
   "metadata": {
    "executionInfo": {
     "elapsed": 12401,
     "status": "ok",
     "timestamp": 1739860217625,
     "user": {
      "displayName": "Akhil Goli",
      "userId": "13786451038838227893"
     },
     "user_tz": -330
    },
    "id": "EFJg-jAWRydv"
   },
   "outputs": [],
   "source": [
    "import pandas as pd\n",
    "import seaborn as sns\n",
    "import matplotlib.pyplot as plt\n",
    "from sklearn.model_selection import train_test_split\n",
    "from sklearn.preprocessing import StandardScaler, OneHotEncoder\n",
    "from sklearn.impute import SimpleImputer\n",
    "from sklearn.compose import ColumnTransformer\n",
    "from sklearn.pipeline import Pipeline\n",
    "from sklearn.linear_model import LogisticRegression\n",
    "from sklearn.ensemble import RandomForestClassifier, GradientBoostingClassifier\n",
    "from sklearn.tree import DecisionTreeClassifier\n",
    "from xgboost import XGBClassifier\n",
    "from tensorflow.keras.models import Sequential\n",
    "from tensorflow.keras.layers import Dense\n",
    "from sklearn.metrics import accuracy_score, classification_report, precision_score, recall_score, f1_score, roc_auc_score"
   ]
  },
  {
   "cell_type": "code",
   "execution_count": 2,
   "metadata": {
    "executionInfo": {
     "elapsed": 3133,
     "status": "ok",
     "timestamp": 1739859924630,
     "user": {
      "displayName": "Akhil Goli",
      "userId": "13786451038838227893"
     },
     "user_tz": -330
    },
    "id": "gRdJ9hrMTINh"
   },
   "outputs": [],
   "source": [
    "#Load tha Dataset\n",
    "Ecom_data = pd.read_csv('/content/drive/MyDrive/Data/ecommerce_recommendation_dataset.csv')"
   ]
  },
  {
   "cell_type": "code",
   "execution_count": 3,
   "metadata": {
    "executionInfo": {
     "elapsed": 567,
     "status": "ok",
     "timestamp": 1739859927392,
     "user": {
      "displayName": "Akhil Goli",
      "userId": "13786451038838227893"
     },
     "user_tz": -330
    },
    "id": "FP2jYSXGUFEf"
   },
   "outputs": [],
   "source": [
    "# Define numerical and categorical features\n",
    "numerical_features = [\"price\", \"rating\", \"time_on_page\", \"session_duration\", \"product_popularity\", \"average_spent\"]\n",
    "categorical_features = [\"category\", \"user_gender\", \"user_location\"]"
   ]
  },
  {
   "cell_type": "code",
   "execution_count": 5,
   "metadata": {
    "executionInfo": {
     "elapsed": 589,
     "status": "ok",
     "timestamp": 1739859936203,
     "user": {
      "displayName": "Akhil Goli",
      "userId": "13786451038838227893"
     },
     "user_tz": -330
    },
    "id": "Yt6eXZlGTdKW"
   },
   "outputs": [],
   "source": [
    "Ecom_data['spending_per_minute'] = Ecom_data['average_spent']/Ecom_data['session_duration']\n",
    "numerical_features.append('spending_per_minute')"
   ]
  },
  {
   "cell_type": "code",
   "execution_count": 6,
   "metadata": {
    "colab": {
     "base_uri": "https://localhost:8080/",
     "height": 256
    },
    "executionInfo": {
     "elapsed": 759,
     "status": "ok",
     "timestamp": 1739859939609,
     "user": {
      "displayName": "Akhil Goli",
      "userId": "13786451038838227893"
     },
     "user_tz": -330
    },
    "id": "JNGbInymU5UH",
    "outputId": "a44acb85-7c3a-429c-cc4d-81c7bf882829"
   },
   "outputs": [
    {
     "data": {
      "application/vnd.google.colaboratory.intrinsic+json": {
       "type": "dataframe",
       "variable_name": "Ecom_data"
      },
      "text/html": [
       "\n",
       "  <div id=\"df-c08dbeb7-884b-4e0c-8c14-b5d45e92fe6e\" class=\"colab-df-container\">\n",
       "    <div>\n",
       "<style scoped>\n",
       "    .dataframe tbody tr th:only-of-type {\n",
       "        vertical-align: middle;\n",
       "    }\n",
       "\n",
       "    .dataframe tbody tr th {\n",
       "        vertical-align: top;\n",
       "    }\n",
       "\n",
       "    .dataframe thead th {\n",
       "        text-align: right;\n",
       "    }\n",
       "</style>\n",
       "<table border=\"1\" class=\"dataframe\">\n",
       "  <thead>\n",
       "    <tr style=\"text-align: right;\">\n",
       "      <th></th>\n",
       "      <th>user_id</th>\n",
       "      <th>product_id</th>\n",
       "      <th>category</th>\n",
       "      <th>price</th>\n",
       "      <th>rating</th>\n",
       "      <th>review_count</th>\n",
       "      <th>user_age</th>\n",
       "      <th>user_gender</th>\n",
       "      <th>user_location</th>\n",
       "      <th>purchase_history</th>\n",
       "      <th>...</th>\n",
       "      <th>review_sentiment_score</th>\n",
       "      <th>user_engagement_score</th>\n",
       "      <th>ad_click_rate</th>\n",
       "      <th>time_of_day</th>\n",
       "      <th>day_of_week</th>\n",
       "      <th>season</th>\n",
       "      <th>payment_method</th>\n",
       "      <th>coupon_used</th>\n",
       "      <th>product_popularity</th>\n",
       "      <th>spending_per_minute</th>\n",
       "    </tr>\n",
       "  </thead>\n",
       "  <tbody>\n",
       "    <tr>\n",
       "      <th>0</th>\n",
       "      <td>78517</td>\n",
       "      <td>1645</td>\n",
       "      <td>Books</td>\n",
       "      <td>842.23</td>\n",
       "      <td>2</td>\n",
       "      <td>155</td>\n",
       "      <td>24</td>\n",
       "      <td>Other</td>\n",
       "      <td>Urban</td>\n",
       "      <td>False</td>\n",
       "      <td>...</td>\n",
       "      <td>-0.28</td>\n",
       "      <td>0.68</td>\n",
       "      <td>0.04</td>\n",
       "      <td>Night</td>\n",
       "      <td>Thursday</td>\n",
       "      <td>Summer</td>\n",
       "      <td>Debit Card</td>\n",
       "      <td>False</td>\n",
       "      <td>0.54</td>\n",
       "      <td>0.690155</td>\n",
       "    </tr>\n",
       "    <tr>\n",
       "      <th>1</th>\n",
       "      <td>52887</td>\n",
       "      <td>100</td>\n",
       "      <td>Books</td>\n",
       "      <td>253.76</td>\n",
       "      <td>3</td>\n",
       "      <td>331</td>\n",
       "      <td>43</td>\n",
       "      <td>Other</td>\n",
       "      <td>Suburban</td>\n",
       "      <td>False</td>\n",
       "      <td>...</td>\n",
       "      <td>0.28</td>\n",
       "      <td>0.11</td>\n",
       "      <td>0.89</td>\n",
       "      <td>Morning</td>\n",
       "      <td>Saturday</td>\n",
       "      <td>Summer</td>\n",
       "      <td>Debit Card</td>\n",
       "      <td>False</td>\n",
       "      <td>0.77</td>\n",
       "      <td>3.146565</td>\n",
       "    </tr>\n",
       "    <tr>\n",
       "      <th>2</th>\n",
       "      <td>59395</td>\n",
       "      <td>585</td>\n",
       "      <td>Books</td>\n",
       "      <td>483.65</td>\n",
       "      <td>2</td>\n",
       "      <td>236</td>\n",
       "      <td>64</td>\n",
       "      <td>Female</td>\n",
       "      <td>Rural</td>\n",
       "      <td>True</td>\n",
       "      <td>...</td>\n",
       "      <td>0.23</td>\n",
       "      <td>0.35</td>\n",
       "      <td>0.99</td>\n",
       "      <td>Evening</td>\n",
       "      <td>Tuesday</td>\n",
       "      <td>Fall</td>\n",
       "      <td>Debit Card</td>\n",
       "      <td>False</td>\n",
       "      <td>0.14</td>\n",
       "      <td>0.149732</td>\n",
       "    </tr>\n",
       "    <tr>\n",
       "      <th>3</th>\n",
       "      <td>54739</td>\n",
       "      <td>3774</td>\n",
       "      <td>Groceries</td>\n",
       "      <td>459.37</td>\n",
       "      <td>2</td>\n",
       "      <td>227</td>\n",
       "      <td>34</td>\n",
       "      <td>Female</td>\n",
       "      <td>Urban</td>\n",
       "      <td>False</td>\n",
       "      <td>...</td>\n",
       "      <td>0.93</td>\n",
       "      <td>0.73</td>\n",
       "      <td>0.16</td>\n",
       "      <td>Afternoon</td>\n",
       "      <td>Tuesday</td>\n",
       "      <td>Spring</td>\n",
       "      <td>Credit Card</td>\n",
       "      <td>False</td>\n",
       "      <td>0.18</td>\n",
       "      <td>4.084240</td>\n",
       "    </tr>\n",
       "    <tr>\n",
       "      <th>4</th>\n",
       "      <td>42723</td>\n",
       "      <td>2119</td>\n",
       "      <td>Groceries</td>\n",
       "      <td>150.11</td>\n",
       "      <td>2</td>\n",
       "      <td>214</td>\n",
       "      <td>51</td>\n",
       "      <td>Female</td>\n",
       "      <td>Urban</td>\n",
       "      <td>True</td>\n",
       "      <td>...</td>\n",
       "      <td>0.11</td>\n",
       "      <td>0.26</td>\n",
       "      <td>0.17</td>\n",
       "      <td>Night</td>\n",
       "      <td>Wednesday</td>\n",
       "      <td>Spring</td>\n",
       "      <td>PayPal</td>\n",
       "      <td>False</td>\n",
       "      <td>0.66</td>\n",
       "      <td>1.485493</td>\n",
       "    </tr>\n",
       "  </tbody>\n",
       "</table>\n",
       "<p>5 rows × 52 columns</p>\n",
       "</div>\n",
       "    <div class=\"colab-df-buttons\">\n",
       "\n",
       "  <div class=\"colab-df-container\">\n",
       "    <button class=\"colab-df-convert\" onclick=\"convertToInteractive('df-c08dbeb7-884b-4e0c-8c14-b5d45e92fe6e')\"\n",
       "            title=\"Convert this dataframe to an interactive table.\"\n",
       "            style=\"display:none;\">\n",
       "\n",
       "  <svg xmlns=\"http://www.w3.org/2000/svg\" height=\"24px\" viewBox=\"0 -960 960 960\">\n",
       "    <path d=\"M120-120v-720h720v720H120Zm60-500h600v-160H180v160Zm220 220h160v-160H400v160Zm0 220h160v-160H400v160ZM180-400h160v-160H180v160Zm440 0h160v-160H620v160ZM180-180h160v-160H180v160Zm440 0h160v-160H620v160Z\"/>\n",
       "  </svg>\n",
       "    </button>\n",
       "\n",
       "  <style>\n",
       "    .colab-df-container {\n",
       "      display:flex;\n",
       "      gap: 12px;\n",
       "    }\n",
       "\n",
       "    .colab-df-convert {\n",
       "      background-color: #E8F0FE;\n",
       "      border: none;\n",
       "      border-radius: 50%;\n",
       "      cursor: pointer;\n",
       "      display: none;\n",
       "      fill: #1967D2;\n",
       "      height: 32px;\n",
       "      padding: 0 0 0 0;\n",
       "      width: 32px;\n",
       "    }\n",
       "\n",
       "    .colab-df-convert:hover {\n",
       "      background-color: #E2EBFA;\n",
       "      box-shadow: 0px 1px 2px rgba(60, 64, 67, 0.3), 0px 1px 3px 1px rgba(60, 64, 67, 0.15);\n",
       "      fill: #174EA6;\n",
       "    }\n",
       "\n",
       "    .colab-df-buttons div {\n",
       "      margin-bottom: 4px;\n",
       "    }\n",
       "\n",
       "    [theme=dark] .colab-df-convert {\n",
       "      background-color: #3B4455;\n",
       "      fill: #D2E3FC;\n",
       "    }\n",
       "\n",
       "    [theme=dark] .colab-df-convert:hover {\n",
       "      background-color: #434B5C;\n",
       "      box-shadow: 0px 1px 3px 1px rgba(0, 0, 0, 0.15);\n",
       "      filter: drop-shadow(0px 1px 2px rgba(0, 0, 0, 0.3));\n",
       "      fill: #FFFFFF;\n",
       "    }\n",
       "  </style>\n",
       "\n",
       "    <script>\n",
       "      const buttonEl =\n",
       "        document.querySelector('#df-c08dbeb7-884b-4e0c-8c14-b5d45e92fe6e button.colab-df-convert');\n",
       "      buttonEl.style.display =\n",
       "        google.colab.kernel.accessAllowed ? 'block' : 'none';\n",
       "\n",
       "      async function convertToInteractive(key) {\n",
       "        const element = document.querySelector('#df-c08dbeb7-884b-4e0c-8c14-b5d45e92fe6e');\n",
       "        const dataTable =\n",
       "          await google.colab.kernel.invokeFunction('convertToInteractive',\n",
       "                                                    [key], {});\n",
       "        if (!dataTable) return;\n",
       "\n",
       "        const docLinkHtml = 'Like what you see? Visit the ' +\n",
       "          '<a target=\"_blank\" href=https://colab.research.google.com/notebooks/data_table.ipynb>data table notebook</a>'\n",
       "          + ' to learn more about interactive tables.';\n",
       "        element.innerHTML = '';\n",
       "        dataTable['output_type'] = 'display_data';\n",
       "        await google.colab.output.renderOutput(dataTable, element);\n",
       "        const docLink = document.createElement('div');\n",
       "        docLink.innerHTML = docLinkHtml;\n",
       "        element.appendChild(docLink);\n",
       "      }\n",
       "    </script>\n",
       "  </div>\n",
       "\n",
       "\n",
       "<div id=\"df-d5e0e30d-1f28-4623-998f-cfcb85e79580\">\n",
       "  <button class=\"colab-df-quickchart\" onclick=\"quickchart('df-d5e0e30d-1f28-4623-998f-cfcb85e79580')\"\n",
       "            title=\"Suggest charts\"\n",
       "            style=\"display:none;\">\n",
       "\n",
       "<svg xmlns=\"http://www.w3.org/2000/svg\" height=\"24px\"viewBox=\"0 0 24 24\"\n",
       "     width=\"24px\">\n",
       "    <g>\n",
       "        <path d=\"M19 3H5c-1.1 0-2 .9-2 2v14c0 1.1.9 2 2 2h14c1.1 0 2-.9 2-2V5c0-1.1-.9-2-2-2zM9 17H7v-7h2v7zm4 0h-2V7h2v10zm4 0h-2v-4h2v4z\"/>\n",
       "    </g>\n",
       "</svg>\n",
       "  </button>\n",
       "\n",
       "<style>\n",
       "  .colab-df-quickchart {\n",
       "      --bg-color: #E8F0FE;\n",
       "      --fill-color: #1967D2;\n",
       "      --hover-bg-color: #E2EBFA;\n",
       "      --hover-fill-color: #174EA6;\n",
       "      --disabled-fill-color: #AAA;\n",
       "      --disabled-bg-color: #DDD;\n",
       "  }\n",
       "\n",
       "  [theme=dark] .colab-df-quickchart {\n",
       "      --bg-color: #3B4455;\n",
       "      --fill-color: #D2E3FC;\n",
       "      --hover-bg-color: #434B5C;\n",
       "      --hover-fill-color: #FFFFFF;\n",
       "      --disabled-bg-color: #3B4455;\n",
       "      --disabled-fill-color: #666;\n",
       "  }\n",
       "\n",
       "  .colab-df-quickchart {\n",
       "    background-color: var(--bg-color);\n",
       "    border: none;\n",
       "    border-radius: 50%;\n",
       "    cursor: pointer;\n",
       "    display: none;\n",
       "    fill: var(--fill-color);\n",
       "    height: 32px;\n",
       "    padding: 0;\n",
       "    width: 32px;\n",
       "  }\n",
       "\n",
       "  .colab-df-quickchart:hover {\n",
       "    background-color: var(--hover-bg-color);\n",
       "    box-shadow: 0 1px 2px rgba(60, 64, 67, 0.3), 0 1px 3px 1px rgba(60, 64, 67, 0.15);\n",
       "    fill: var(--button-hover-fill-color);\n",
       "  }\n",
       "\n",
       "  .colab-df-quickchart-complete:disabled,\n",
       "  .colab-df-quickchart-complete:disabled:hover {\n",
       "    background-color: var(--disabled-bg-color);\n",
       "    fill: var(--disabled-fill-color);\n",
       "    box-shadow: none;\n",
       "  }\n",
       "\n",
       "  .colab-df-spinner {\n",
       "    border: 2px solid var(--fill-color);\n",
       "    border-color: transparent;\n",
       "    border-bottom-color: var(--fill-color);\n",
       "    animation:\n",
       "      spin 1s steps(1) infinite;\n",
       "  }\n",
       "\n",
       "  @keyframes spin {\n",
       "    0% {\n",
       "      border-color: transparent;\n",
       "      border-bottom-color: var(--fill-color);\n",
       "      border-left-color: var(--fill-color);\n",
       "    }\n",
       "    20% {\n",
       "      border-color: transparent;\n",
       "      border-left-color: var(--fill-color);\n",
       "      border-top-color: var(--fill-color);\n",
       "    }\n",
       "    30% {\n",
       "      border-color: transparent;\n",
       "      border-left-color: var(--fill-color);\n",
       "      border-top-color: var(--fill-color);\n",
       "      border-right-color: var(--fill-color);\n",
       "    }\n",
       "    40% {\n",
       "      border-color: transparent;\n",
       "      border-right-color: var(--fill-color);\n",
       "      border-top-color: var(--fill-color);\n",
       "    }\n",
       "    60% {\n",
       "      border-color: transparent;\n",
       "      border-right-color: var(--fill-color);\n",
       "    }\n",
       "    80% {\n",
       "      border-color: transparent;\n",
       "      border-right-color: var(--fill-color);\n",
       "      border-bottom-color: var(--fill-color);\n",
       "    }\n",
       "    90% {\n",
       "      border-color: transparent;\n",
       "      border-bottom-color: var(--fill-color);\n",
       "    }\n",
       "  }\n",
       "</style>\n",
       "\n",
       "  <script>\n",
       "    async function quickchart(key) {\n",
       "      const quickchartButtonEl =\n",
       "        document.querySelector('#' + key + ' button');\n",
       "      quickchartButtonEl.disabled = true;  // To prevent multiple clicks.\n",
       "      quickchartButtonEl.classList.add('colab-df-spinner');\n",
       "      try {\n",
       "        const charts = await google.colab.kernel.invokeFunction(\n",
       "            'suggestCharts', [key], {});\n",
       "      } catch (error) {\n",
       "        console.error('Error during call to suggestCharts:', error);\n",
       "      }\n",
       "      quickchartButtonEl.classList.remove('colab-df-spinner');\n",
       "      quickchartButtonEl.classList.add('colab-df-quickchart-complete');\n",
       "    }\n",
       "    (() => {\n",
       "      let quickchartButtonEl =\n",
       "        document.querySelector('#df-d5e0e30d-1f28-4623-998f-cfcb85e79580 button');\n",
       "      quickchartButtonEl.style.display =\n",
       "        google.colab.kernel.accessAllowed ? 'block' : 'none';\n",
       "    })();\n",
       "  </script>\n",
       "</div>\n",
       "\n",
       "    </div>\n",
       "  </div>\n"
      ],
      "text/plain": [
       "   user_id  product_id   category   price  rating  review_count  user_age  \\\n",
       "0    78517        1645      Books  842.23       2           155        24   \n",
       "1    52887         100      Books  253.76       3           331        43   \n",
       "2    59395         585      Books  483.65       2           236        64   \n",
       "3    54739        3774  Groceries  459.37       2           227        34   \n",
       "4    42723        2119  Groceries  150.11       2           214        51   \n",
       "\n",
       "  user_gender user_location  purchase_history  ...  review_sentiment_score  \\\n",
       "0       Other         Urban             False  ...                   -0.28   \n",
       "1       Other      Suburban             False  ...                    0.28   \n",
       "2      Female         Rural              True  ...                    0.23   \n",
       "3      Female         Urban             False  ...                    0.93   \n",
       "4      Female         Urban              True  ...                    0.11   \n",
       "\n",
       "   user_engagement_score ad_click_rate  time_of_day day_of_week  season  \\\n",
       "0                   0.68          0.04        Night    Thursday  Summer   \n",
       "1                   0.11          0.89      Morning    Saturday  Summer   \n",
       "2                   0.35          0.99      Evening     Tuesday    Fall   \n",
       "3                   0.73          0.16    Afternoon     Tuesday  Spring   \n",
       "4                   0.26          0.17        Night   Wednesday  Spring   \n",
       "\n",
       "  payment_method coupon_used  product_popularity  spending_per_minute  \n",
       "0     Debit Card       False                0.54             0.690155  \n",
       "1     Debit Card       False                0.77             3.146565  \n",
       "2     Debit Card       False                0.14             0.149732  \n",
       "3    Credit Card       False                0.18             4.084240  \n",
       "4         PayPal       False                0.66             1.485493  \n",
       "\n",
       "[5 rows x 52 columns]"
      ]
     },
     "execution_count": 6,
     "metadata": {},
     "output_type": "execute_result"
    }
   ],
   "source": [
    "Ecom_data.head()"
   ]
  },
  {
   "cell_type": "code",
   "execution_count": 7,
   "metadata": {
    "executionInfo": {
     "elapsed": 554,
     "status": "ok",
     "timestamp": 1739859946609,
     "user": {
      "displayName": "Akhil Goli",
      "userId": "13786451038838227893"
     },
     "user_tz": -330
    },
    "id": "1O35Lh93WZia"
   },
   "outputs": [],
   "source": [
    "# Handle missing values\n",
    "num_imputer = SimpleImputer(strategy=\"mean\")\n",
    "cat_imputer = SimpleImputer(strategy=\"most_frequent\")"
   ]
  },
  {
   "cell_type": "code",
   "execution_count": 8,
   "metadata": {
    "executionInfo": {
     "elapsed": 585,
     "status": "ok",
     "timestamp": 1739859953581,
     "user": {
      "displayName": "Akhil Goli",
      "userId": "13786451038838227893"
     },
     "user_tz": -330
    },
    "id": "t2NSbcoiVzWJ"
   },
   "outputs": [],
   "source": [
    "# Preprocessing pipeline\n",
    "preprocessor = ColumnTransformer(\n",
    "    transformers=[\n",
    "        (\"num\", Pipeline([(\"imputer\", num_imputer), (\"scaler\", StandardScaler())]), numerical_features),\n",
    "        (\"cat\", Pipeline([(\"imputer\", cat_imputer), (\"encoder\", OneHotEncoder(handle_unknown=\"ignore\"))]), categorical_features)\n",
    "    ]\n",
    ")"
   ]
  },
  {
   "cell_type": "code",
   "execution_count": 9,
   "metadata": {
    "executionInfo": {
     "elapsed": 557,
     "status": "ok",
     "timestamp": 1739859960426,
     "user": {
      "displayName": "Akhil Goli",
      "userId": "13786451038838227893"
     },
     "user_tz": -330
    },
    "id": "HkA9ozFPWg0n"
   },
   "outputs": [],
   "source": [
    "# Define target variable\n",
    "target = \"purchase_history\""
   ]
  },
  {
   "cell_type": "code",
   "execution_count": 10,
   "metadata": {
    "executionInfo": {
     "elapsed": 554,
     "status": "ok",
     "timestamp": 1739859963007,
     "user": {
      "displayName": "Akhil Goli",
      "userId": "13786451038838227893"
     },
     "user_tz": -330
    },
    "id": "jLwlp0ZYW6_j"
   },
   "outputs": [],
   "source": [
    "# Split data into train and test sets\n",
    "X_train, X_test, y_train, y_test = train_test_split(\n",
    "    Ecom_data[numerical_features + categorical_features], Ecom_data[target], test_size=0.3, random_state=42\n",
    ")"
   ]
  },
  {
   "cell_type": "code",
   "execution_count": 12,
   "metadata": {
    "executionInfo": {
     "elapsed": 577,
     "status": "ok",
     "timestamp": 1739859975288,
     "user": {
      "displayName": "Akhil Goli",
      "userId": "13786451038838227893"
     },
     "user_tz": -330
    },
    "id": "NhhDyuI7W7yi"
   },
   "outputs": [],
   "source": [
    "# Apply preprocessing to train and test sets\n",
    "X_train_preprocessed = preprocessor.fit_transform(X_train)\n",
    "X_test_preprocessed = preprocessor.transform(X_test)"
   ]
  },
  {
   "cell_type": "code",
   "execution_count": 13,
   "metadata": {
    "colab": {
     "base_uri": "https://localhost:8080/"
    },
    "executionInfo": {
     "elapsed": 548,
     "status": "ok",
     "timestamp": 1739859978698,
     "user": {
      "displayName": "Akhil Goli",
      "userId": "13786451038838227893"
     },
     "user_tz": -330
    },
    "id": "sPZto61kXIQa",
    "outputId": "62b37651-2479-4c1a-f3d1-64f597eee1b0"
   },
   "outputs": [
    {
     "name": "stdout",
     "output_type": "stream",
     "text": [
      "Train Set Shape: (42000, 18)\n",
      "Test Set Shape: (18000, 18)\n"
     ]
    }
   ],
   "source": [
    "# Output shape of transformed data\n",
    "print(\"Train Set Shape:\", X_train_preprocessed.shape)\n",
    "print(\"Test Set Shape:\", X_test_preprocessed.shape)"
   ]
  },
  {
   "cell_type": "code",
   "execution_count": 14,
   "metadata": {
    "colab": {
     "base_uri": "https://localhost:8080/",
     "height": 647
    },
    "executionInfo": {
     "elapsed": 1781,
     "status": "ok",
     "timestamp": 1739859984846,
     "user": {
      "displayName": "Akhil Goli",
      "userId": "13786451038838227893"
     },
     "user_tz": -330
    },
    "id": "dqm5cHDsXIrK",
    "outputId": "bbe25e36-b425-4ade-fbeb-7e4c33d4c245"
   },
   "outputs": [
    {
     "data": {
      "image/png": "[encoded data removed]",
      "text/plain": [
       "<Figure size 1000x600 with 2 Axes>"
      ]
     },
     "metadata": {},
     "output_type": "display_data"
    }
   ],
   "source": [
    "# Exploratory Data Analysis (EDA)\n",
    "# Correlation heatmap\n",
    "plt.figure(figsize=(10, 6))\n",
    "sns.heatmap(Ecom_data[numerical_features].corr(), annot=True, cmap=\"coolwarm\")\n",
    "plt.title(\"Feature Correlation Heatmap\")\n",
    "plt.show()"
   ]
  },
  {
   "cell_type": "code",
   "execution_count": 15,
   "metadata": {
    "colab": {
     "base_uri": "https://localhost:8080/",
     "height": 472
    },
    "executionInfo": {
     "elapsed": 742,
     "status": "ok",
     "timestamp": 1739859990394,
     "user": {
      "displayName": "Akhil Goli",
      "userId": "13786451038838227893"
     },
     "user_tz": -330
    },
    "id": "GIFEIvnGXVrB",
    "outputId": "6b15f7c7-73fe-417b-914a-00d803d8c1d7"
   },
   "outputs": [
    {
     "data": {
      "image/png": "[encoded data removed]",
      "text/plain": [
       "<Figure size 800x400 with 1 Axes>"
      ]
     },
     "metadata": {},
     "output_type": "display_data"
    }
   ],
   "source": [
    "# Distribution of product categories\n",
    "plt.figure(figsize=(8, 4))\n",
    "Ecom_data[\"category\"].value_counts().plot(kind=\"bar\", color=\"skyblue\")\n",
    "plt.title(\"Distribution of Product Categories\")\n",
    "plt.xlabel(\"Category\")\n",
    "plt.ylabel(\"Count\")\n",
    "plt.show()"
   ]
  },
  {
   "cell_type": "code",
   "execution_count": 16,
   "metadata": {
    "colab": {
     "base_uri": "https://localhost:8080/",
     "height": 410
    },
    "executionInfo": {
     "elapsed": 674,
     "status": "ok",
     "timestamp": 1739860001721,
     "user": {
      "displayName": "Akhil Goli",
      "userId": "13786451038838227893"
     },
     "user_tz": -330
    },
    "id": "WwR2E6YrXZRO",
    "outputId": "2b8eca81-39ea-480a-8c6e-f8804e9616bc"
   },
   "outputs": [
    {
     "data": {
      "image/png": "[encoded data removed]",
      "text/plain": [
       "<Figure size 800x400 with 1 Axes>"
      ]
     },
     "metadata": {},
     "output_type": "display_data"
    }
   ],
   "source": [
    "# Relationship between price, rating, and purchase likelihood\n",
    "plt.figure(figsize=(8, 4))\n",
    "sns.boxplot(x=\"purchase_history\", y=\"price\", data=Ecom_data)\n",
    "plt.title(\"Price vs Purchase Likelihood\")\n",
    "plt.show()"
   ]
  },
  {
   "cell_type": "code",
   "execution_count": 17,
   "metadata": {
    "colab": {
     "base_uri": "https://localhost:8080/",
     "height": 410
    },
    "executionInfo": {
     "elapsed": 666,
     "status": "ok",
     "timestamp": 1739860007517,
     "user": {
      "displayName": "Akhil Goli",
      "userId": "13786451038838227893"
     },
     "user_tz": -330
    },
    "id": "bXcZp-wHXpdm",
    "outputId": "565f2be8-3411-4c30-8aca-5c8ee09b45f6"
   },
   "outputs": [
    {
     "data": {
      "image/png": "[encoded data removed]",
      "text/plain": [
       "<Figure size 800x400 with 1 Axes>"
      ]
     },
     "metadata": {},
     "output_type": "display_data"
    }
   ],
   "source": [
    "plt.figure(figsize=(8, 4))\n",
    "sns.boxplot(x=\"purchase_history\", y=\"rating\", data=Ecom_data)\n",
    "plt.title(\"Rating vs Purchase Likelihood\")\n",
    "plt.show()"
   ]
  },
  {
   "cell_type": "code",
   "execution_count": null,
   "metadata": {
    "id": "FFRrQRl2u0vU"
   },
   "outputs": [],
   "source": []
  },
  {
   "cell_type": "code",
   "execution_count": 29,
   "metadata": {
    "colab": {
     "base_uri": "https://localhost:8080/"
    },
    "executionInfo": {
     "elapsed": 541,
     "status": "ok",
     "timestamp": 1739861246360,
     "user": {
      "displayName": "Akhil Goli",
      "userId": "13786451038838227893"
     },
     "user_tz": -330
    },
    "id": "gtzDVZUxXuF6",
    "outputId": "4667c391-7d3c-4c28-ceff-be329fccce7a"
   },
   "outputs": [
    {
     "name": "stdout",
     "output_type": "stream",
     "text": [
      "Logistic Regression Accuracy: 0.4993888888888889\n",
      "\n",
      "Classification Report:\n",
      "               precision    recall  f1-score   support\n",
      "\n",
      "       False       0.50      0.47      0.48      8960\n",
      "        True       0.50      0.53      0.52      9040\n",
      "\n",
      "    accuracy                           0.50     18000\n",
      "   macro avg       0.50      0.50      0.50     18000\n",
      "weighted avg       0.50      0.50      0.50     18000\n",
      "\n"
     ]
    }
   ],
   "source": [
    "# Train baseline Logistic Regression model\n",
    "log_reg = LogisticRegression()\n",
    "log_reg.fit(X_train_preprocessed, y_train)\n",
    "y_pred_log = log_reg.predict(X_test_preprocessed)\n",
    "print(\"Logistic Regression Accuracy:\", accuracy_score(y_test, y_pred_log))\n",
    "print(\"\\nClassification Report:\\n\", classification_report(y_test, y_pred_log))"
   ]
  },
  {
   "cell_type": "code",
   "execution_count": 34,
   "metadata": {
    "colab": {
     "base_uri": "https://localhost:8080/"
    },
    "executionInfo": {
     "elapsed": 18275,
     "status": "ok",
     "timestamp": 1739863180772,
     "user": {
      "displayName": "Akhil Goli",
      "userId": "13786451038838227893"
     },
     "user_tz": -330
    },
    "id": "b-AJjs2iYqbX",
    "outputId": "893525d4-f4c2-4e2c-c739-9ab0deaeecef"
   },
   "outputs": [
    {
     "name": "stdout",
     "output_type": "stream",
     "text": [
      "Random Forest Accuracy: 0.49733333333333335\n"
     ]
    }
   ],
   "source": [
    "# Train advanced models\n",
    "rf_model = RandomForestClassifier()\n",
    "rf_model.fit(X_train_preprocessed, y_train)\n",
    "y_pred_rf = rf_model.predict(X_test_preprocessed)\n",
    "print(\"Random Forest Accuracy:\", accuracy_score(y_test, y_pred_rf))\n"
   ]
  },
  {
   "cell_type": "code",
   "execution_count": 36,
   "metadata": {
    "colab": {
     "base_uri": "https://localhost:8080/"
    },
    "executionInfo": {
     "elapsed": 17535,
     "status": "ok",
     "timestamp": 1739863432978,
     "user": {
      "displayName": "Akhil Goli",
      "userId": "13786451038838227893"
     },
     "user_tz": -330
    },
    "id": "ReNoL7tmY6U3",
    "outputId": "4f936c28-525b-4e5b-8b0d-4c819218a7de"
   },
   "outputs": [
    {
     "name": "stdout",
     "output_type": "stream",
     "text": [
      "Gradient Boosting Accuracy: 0.5012222222222222\n"
     ]
    }
   ],
   "source": [
    "gb_model = GradientBoostingClassifier()\n",
    "gb_model.fit(X_train_preprocessed, y_train)\n",
    "y_pred_gb = gb_model.predict(X_test_preprocessed)\n",
    "print(\"Gradient Boosting Accuracy:\", accuracy_score(y_test, y_pred_gb))"
   ]
  },
  {
   "cell_type": "code",
   "execution_count": 20,
   "metadata": {
    "colab": {
     "base_uri": "https://localhost:8080/"
    },
    "executionInfo": {
     "elapsed": 1433,
     "status": "ok",
     "timestamp": 1739860105021,
     "user": {
      "displayName": "Akhil Goli",
      "userId": "13786451038838227893"
     },
     "user_tz": -330
    },
    "id": "SRQcY3HQZNUa",
    "outputId": "7dba34c1-9f1f-4508-972d-9ca346762f27"
   },
   "outputs": [
    {
     "name": "stdout",
     "output_type": "stream",
     "text": [
      "Decision Tree Accuracy: 0.49877777777777776\n"
     ]
    }
   ],
   "source": [
    "# Train Decision Tree model\n",
    "dt_model = DecisionTreeClassifier()\n",
    "dt_model.fit(X_train_preprocessed, y_train)\n",
    "y_pred_dt = dt_model.predict(X_test_preprocessed)\n",
    "print(\"Decision Tree Accuracy:\", accuracy_score(y_test, y_pred_dt))"
   ]
  },
  {
   "cell_type": "code",
   "execution_count": 23,
   "metadata": {
    "colab": {
     "base_uri": "https://localhost:8080/"
    },
    "executionInfo": {
     "elapsed": 1098,
     "status": "ok",
     "timestamp": 1739860169159,
     "user": {
      "displayName": "Akhil Goli",
      "userId": "13786451038838227893"
     },
     "user_tz": -330
    },
    "id": "433BzlJLvdAD",
    "outputId": "a34a8a1c-9dd8-4649-b8f1-c2664eee7258"
   },
   "outputs": [
    {
     "name": "stdout",
     "output_type": "stream",
     "text": [
      "XGBoost Accuracy: 0.49977777777777777\n"
     ]
    }
   ],
   "source": [
    "# Train XGBoost model\n",
    "xgb_model = XGBClassifier()\n",
    "xgb_model.fit(X_train_preprocessed, y_train)\n",
    "y_pred_xgb = xgb_model.predict(X_test_preprocessed)\n",
    "print(\"XGBoost Accuracy:\", accuracy_score(y_test, y_pred_xgb))\n"
   ]
  },
  {
   "cell_type": "code",
   "execution_count": 26,
   "metadata": {
    "colab": {
     "base_uri": "https://localhost:8080/"
    },
    "executionInfo": {
     "elapsed": 42257,
     "status": "ok",
     "timestamp": 1739860267486,
     "user": {
      "displayName": "Akhil Goli",
      "userId": "13786451038838227893"
     },
     "user_tz": -330
    },
    "id": "q3EMnJwbv1zq",
    "outputId": "ad0c2882-664b-4a0a-a009-0d3524533618"
   },
   "outputs": [
    {
     "name": "stderr",
     "output_type": "stream",
     "text": [
      "/usr/local/lib/python3.11/dist-packages/keras/src/layers/core/dense.py:87: UserWarning: Do not pass an `input_shape`/`input_dim` argument to a layer. When using Sequential models, prefer using an `Input(shape)` object as the first layer in the model instead.\n",
      "  super().__init__(activity_regularizer=activity_regularizer, **kwargs)\n"
     ]
    },
    {
     "name": "stdout",
     "output_type": "stream",
     "text": [
      "Epoch 1/10\n",
      "\u001b[1m1313/1313\u001b[0m \u001b[32m━━━━━━━━━━━━━━━━━━━━\u001b[0m\u001b[37m\u001b[0m \u001b[1m6s\u001b[0m 3ms/step - accuracy: 0.5000 - loss: 0.6973\n",
      "Epoch 2/10\n",
      "\u001b[1m1313/1313\u001b[0m \u001b[32m━━━━━━━━━━━━━━━━━━━━\u001b[0m\u001b[37m\u001b[0m \u001b[1m4s\u001b[0m 2ms/step - accuracy: 0.5171 - loss: 0.6932\n",
      "Epoch 3/10\n",
      "\u001b[1m1313/1313\u001b[0m \u001b[32m━━━━━━━━━━━━━━━━━━━━\u001b[0m\u001b[37m\u001b[0m \u001b[1m3s\u001b[0m 2ms/step - accuracy: 0.5199 - loss: 0.6920\n",
      "Epoch 4/10\n",
      "\u001b[1m1313/1313\u001b[0m \u001b[32m━━━━━━━━━━━━━━━━━━━━\u001b[0m\u001b[37m\u001b[0m \u001b[1m3s\u001b[0m 3ms/step - accuracy: 0.5215 - loss: 0.6915\n",
      "Epoch 5/10\n",
      "\u001b[1m1313/1313\u001b[0m \u001b[32m━━━━━━━━━━━━━━━━━━━━\u001b[0m\u001b[37m\u001b[0m \u001b[1m5s\u001b[0m 2ms/step - accuracy: 0.5335 - loss: 0.6910\n",
      "Epoch 6/10\n",
      "\u001b[1m1313/1313\u001b[0m \u001b[32m━━━━━━━━━━━━━━━━━━━━\u001b[0m\u001b[37m\u001b[0m \u001b[1m3s\u001b[0m 2ms/step - accuracy: 0.5372 - loss: 0.6902\n",
      "Epoch 7/10\n",
      "\u001b[1m1313/1313\u001b[0m \u001b[32m━━━━━━━━━━━━━━━━━━━━\u001b[0m\u001b[37m\u001b[0m \u001b[1m6s\u001b[0m 3ms/step - accuracy: 0.5382 - loss: 0.6894\n",
      "Epoch 8/10\n",
      "\u001b[1m1313/1313\u001b[0m \u001b[32m━━━━━━━━━━━━━━━━━━━━\u001b[0m\u001b[37m\u001b[0m \u001b[1m4s\u001b[0m 3ms/step - accuracy: 0.5431 - loss: 0.6882\n",
      "Epoch 9/10\n",
      "\u001b[1m1313/1313\u001b[0m \u001b[32m━━━━━━━━━━━━━━━━━━━━\u001b[0m\u001b[37m\u001b[0m \u001b[1m4s\u001b[0m 2ms/step - accuracy: 0.5452 - loss: 0.6871\n",
      "Epoch 10/10\n",
      "\u001b[1m1313/1313\u001b[0m \u001b[32m━━━━━━━━━━━━━━━━━━━━\u001b[0m\u001b[37m\u001b[0m \u001b[1m3s\u001b[0m 2ms/step - accuracy: 0.5500 - loss: 0.6861\n",
      "MLP Neural Network Accuracy: 0.4971666634082794\n"
     ]
    }
   ],
   "source": [
    "\n",
    "# Train Deep Learning model (MLP)\n",
    "mlp_model = Sequential([\n",
    "    Dense(64, activation='relu', input_shape=(X_train_preprocessed.shape[1],)),\n",
    "    Dense(32, activation='relu'),\n",
    "    Dense(1, activation='sigmoid')\n",
    "])\n",
    "mlp_model.compile(optimizer='adam', loss='binary_crossentropy', metrics=['accuracy'])\n",
    "mlp_model.fit(X_train_preprocessed, y_train, epochs=10, batch_size=32, verbose=1)\n",
    "mlp_accuracy = mlp_model.evaluate(X_test_preprocessed, y_test, verbose=0)[1]\n",
    "print(\"MLP Neural Network Accuracy:\", mlp_accuracy)"
   ]
  },
  {
   "cell_type": "code",
   "execution_count": 37,
   "metadata": {
    "colab": {
     "base_uri": "https://localhost:8080/"
    },
    "executionInfo": {
     "elapsed": 523,
     "status": "ok",
     "timestamp": 1739863437415,
     "user": {
      "displayName": "Akhil Goli",
      "userId": "13786451038838227893"
     },
     "user_tz": -330
    },
    "id": "Mru0CEENzmPD",
    "outputId": "8d234e09-4852-4038-a581-e18283edd5df"
   },
   "outputs": [
    {
     "name": "stdout",
     "output_type": "stream",
     "text": [
      "Logistic Regression Evaluation:\n",
      "Accuracy: 0.50\n",
      "Precision: 0.50\n",
      "Recall: 0.53\n",
      "F1-Score: 0.52\n",
      "ROC-AUC: 0.50\n",
      "              precision    recall  f1-score   support\n",
      "\n",
      "       False       0.50      0.47      0.48      8960\n",
      "        True       0.50      0.53      0.52      9040\n",
      "\n",
      "    accuracy                           0.50     18000\n",
      "   macro avg       0.50      0.50      0.50     18000\n",
      "weighted avg       0.50      0.50      0.50     18000\n",
      "\n",
      "--------------------------------------------------\n",
      "Random Forest Evaluation:\n",
      "Accuracy: 0.50\n",
      "Precision: 0.50\n",
      "Recall: 0.48\n",
      "F1-Score: 0.49\n",
      "ROC-AUC: 0.50\n",
      "              precision    recall  f1-score   support\n",
      "\n",
      "       False       0.50      0.52      0.51      8960\n",
      "        True       0.50      0.48      0.49      9040\n",
      "\n",
      "    accuracy                           0.50     18000\n",
      "   macro avg       0.50      0.50      0.50     18000\n",
      "weighted avg       0.50      0.50      0.50     18000\n",
      "\n",
      "--------------------------------------------------\n",
      "Gradient Boosting Evaluation:\n",
      "Accuracy: 0.50\n",
      "Precision: 0.50\n",
      "Recall: 0.50\n",
      "F1-Score: 0.50\n",
      "ROC-AUC: 0.50\n",
      "              precision    recall  f1-score   support\n",
      "\n",
      "       False       0.50      0.50      0.50      8960\n",
      "        True       0.50      0.50      0.50      9040\n",
      "\n",
      "    accuracy                           0.50     18000\n",
      "   macro avg       0.50      0.50      0.50     18000\n",
      "weighted avg       0.50      0.50      0.50     18000\n",
      "\n",
      "--------------------------------------------------\n",
      "XG Boosting Evaluation:\n",
      "Accuracy: 0.50\n",
      "Precision: 0.50\n",
      "Recall: 0.50\n",
      "F1-Score: 0.50\n",
      "ROC-AUC: 0.50\n",
      "              precision    recall  f1-score   support\n",
      "\n",
      "       False       0.50      0.50      0.50      8960\n",
      "        True       0.50      0.50      0.50      9040\n",
      "\n",
      "    accuracy                           0.50     18000\n",
      "   macro avg       0.50      0.50      0.50     18000\n",
      "weighted avg       0.50      0.50      0.50     18000\n",
      "\n",
      "--------------------------------------------------\n"
     ]
    }
   ],
   "source": [
    "# Evaluation Function\n",
    "def evaluate_model(y_test, y_pred, model_name):\n",
    "    accuracy = accuracy_score(y_test, y_pred)\n",
    "    precision = precision_score(y_test, y_pred)\n",
    "    recall = recall_score(y_test, y_pred)\n",
    "    f1 = f1_score(y_test, y_pred)\n",
    "    roc_auc = roc_auc_score(y_test, y_pred)\n",
    "    print(f\"{model_name} Evaluation:\")\n",
    "    print(f\"Accuracy: {accuracy:.2f}\")\n",
    "    print(f\"Precision: {precision:.2f}\")\n",
    "    print(f\"Recall: {recall:.2f}\")\n",
    "    print(f\"F1-Score: {f1:.2f}\")\n",
    "    print(f\"ROC-AUC: {roc_auc:.2f}\")\n",
    "    print(classification_report(y_test, y_pred))\n",
    "    print(\"-\"*50)\n",
    "\n",
    "# Evaluate all models\n",
    "evaluate_model(y_test, y_pred_log, \"Logistic Regression\")\n",
    "evaluate_model(y_test, y_pred_rf, \"Random Forest\")\n",
    "evaluate_model(y_test, y_pred_gb, \"Gradient Boosting\")\n",
    "evaluate_model(y_test, y_pred_xgb, \"XG Boosting\")"
   ]
  }
 ],
 "metadata": {
  "colab": {
   "authorship_tag": "ABX9TyMQkVdjtFq+fbpWrppyBOLX",
   "mount_file_id": "1r4zvZNwDPqucyFqtgcr2ls-cqZsoOJa0",
   "provenance": []
  },
  "kernelspec": {
   "display_name": "Python 3 (ipykernel)",
   "language": "python",
   "name": "python3"
  },
  "language_info": {
   "codemirror_mode": {
    "name": "ipython",
    "version": 3
   },
   "file_extension": ".py",
   "mimetype": "text/x-python",
   "name": "python",
   "nbconvert_exporter": "python",
   "pygments_lexer": "ipython3",
   "version": "3.12.4"
  }
 },
 "nbformat": 4,
 "nbformat_minor": 4
}
